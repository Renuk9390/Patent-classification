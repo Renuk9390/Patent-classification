{
  "nbformat": 4,
  "nbformat_minor": 0,
  "metadata": {
    "colab": {
      "name": "Data_extraction_GPPD.ipynb",
      "provenance": []
    },
    "kernelspec": {
      "name": "python3",
      "display_name": "Python 3"
    },
    "language_info": {
      "name": "python"
    }
  },
  "cells": [
    {
      "cell_type": "code",
      "metadata": {
        "id": "mfHv54Mq-b-5"
      },
      "source": [
        "from google.cloud import bigquery\n",
        "import os\n",
        "os.environ[\"GOOGLE_APPLICATION_CREDENTIALS\"] = \"/content/drive/MyDrive/classification/Json_file_name_for_the_bigquery_config.json\"\n",
        "\n",
        "project_id = \"Enter_the_project_id_here\"\n",
        "bq_client = bigquery.Client(project=project_id)"
      ],
      "execution_count": null,
      "outputs": []
    },
    {
      "cell_type": "code",
      "metadata": {
        "id": "IUtPDqM1bjbX"
      },
      "source": [
        "import pandas as pd\n"
      ],
      "execution_count": null,
      "outputs": []
    },
    {
      "cell_type": "code",
      "metadata": {
        "id": "h0_Z5MC_AkU5"
      },
      "source": [
        "query_n = r'''\n",
        "  SELECT t1.id as ID, t1.date as Date, title as Title, text as Claim, \n",
        "  STRING_AGG(distinct t2.group_id order by t2.group_id)\n",
        "  AS cpc_subclass,\n",
        "  FROM `patents-public-data.patentsview.patent` t1,\n",
        "  `patents-public-data.patentsview.cpc_current` t2,\n",
        "  `patents-public-data.patentsview.claim` t3\n",
        "  where t1.id = t2.patent_id\n",
        "  and t1.id = t3.patent_id\n",
        "  and timestamp(t1.date) >= timestamp('2009-01-01')\n",
        "  and timestamp(t1.date) <= timestamp('2009-12-31')\n",
        "  and t3.sequence='1'\n",
        "  and t1.type='utility'\n",
        "  group by t1.id, t1.date, t3.text, t1.title\n",
        "'''\n",
        "\n",
        "df_n = bq_client.query(query_n).to_dataframe()"
      ],
      "execution_count": null,
      "outputs": []
    },
    {
      "cell_type": "code",
      "metadata": {
        "colab": {
          "base_uri": "https://localhost:8080/"
        },
        "id": "l_Di0h_eE7_c",
        "outputId": "780a1929-39fd-4f61-9b46-8b35fdad60f2"
      },
      "source": [
        "df_n.shape"
      ],
      "execution_count": null,
      "outputs": [
        {
          "output_type": "execute_result",
          "data": {
            "text/plain": [
              "(167315, 5)"
            ]
          },
          "metadata": {},
          "execution_count": 49
        }
      ]
    },
    {
      "cell_type": "code",
      "metadata": {
        "id": "VknORptnuiZK"
      },
      "source": [
        "df_n.to_csv('/content/drive/MyDrive/classification/cpc_dataset_2010_2020/2009.csv')\n"
      ],
      "execution_count": null,
      "outputs": []
    },
    {
      "cell_type": "code",
      "metadata": {
        "colab": {
          "base_uri": "https://localhost:8080/",
          "height": 206
        },
        "id": "Erh34ToYOfd0",
        "outputId": "d412f118-149d-421a-87e3-d038351db221"
      },
      "source": [
        "df_n.head()"
      ],
      "execution_count": null,
      "outputs": [
        {
          "output_type": "execute_result",
          "data": {
            "text/html": [
              "<div>\n",
              "<style scoped>\n",
              "    .dataframe tbody tr th:only-of-type {\n",
              "        vertical-align: middle;\n",
              "    }\n",
              "\n",
              "    .dataframe tbody tr th {\n",
              "        vertical-align: top;\n",
              "    }\n",
              "\n",
              "    .dataframe thead th {\n",
              "        text-align: right;\n",
              "    }\n",
              "</style>\n",
              "<table border=\"1\" class=\"dataframe\">\n",
              "  <thead>\n",
              "    <tr style=\"text-align: right;\">\n",
              "      <th></th>\n",
              "      <th>ID</th>\n",
              "      <th>Date</th>\n",
              "      <th>Title</th>\n",
              "      <th>Claim</th>\n",
              "      <th>cpc_subclass</th>\n",
              "    </tr>\n",
              "  </thead>\n",
              "  <tbody>\n",
              "    <tr>\n",
              "      <th>0</th>\n",
              "      <td>7473268</td>\n",
              "      <td>2009-01-06</td>\n",
              "      <td>Mating insertion instruments for spinal implan...</td>\n",
              "      <td>1. A method for inserting a main body assembly...</td>\n",
              "      <td>A61B,A61K</td>\n",
              "    </tr>\n",
              "    <tr>\n",
              "      <th>1</th>\n",
              "      <td>7473683</td>\n",
              "      <td>2009-01-06</td>\n",
              "      <td>Nonpolar thymidine analogs</td>\n",
              "      <td>1. A nucleoside analog comprising a halogenate...</td>\n",
              "      <td>A61K,C07D,C07H</td>\n",
              "    </tr>\n",
              "    <tr>\n",
              "      <th>2</th>\n",
              "      <td>7473560</td>\n",
              "      <td>2009-01-06</td>\n",
              "      <td>Steroid hormone analysis by mass spectrometry</td>\n",
              "      <td>1. A method for mass spectrometric analysis of...</td>\n",
              "      <td>G01N,Y10T</td>\n",
              "    </tr>\n",
              "    <tr>\n",
              "      <th>3</th>\n",
              "      <td>7472455</td>\n",
              "      <td>2009-01-06</td>\n",
              "      <td>Portable hairstylists' station and method</td>\n",
              "      <td>1. A portable hair stylists' station having a ...</td>\n",
              "      <td>A45D,A47L</td>\n",
              "    </tr>\n",
              "    <tr>\n",
              "      <th>4</th>\n",
              "      <td>7474526</td>\n",
              "      <td>2009-01-06</td>\n",
              "      <td>Electronic apparatus</td>\n",
              "      <td>1. An electronic apparatus comprising: a case;...</td>\n",
              "      <td>G06F,H01L</td>\n",
              "    </tr>\n",
              "  </tbody>\n",
              "</table>\n",
              "</div>"
            ],
            "text/plain": [
              "        ID  ...    cpc_subclass\n",
              "0  7473268  ...       A61B,A61K\n",
              "1  7473683  ...  A61K,C07D,C07H\n",
              "2  7473560  ...       G01N,Y10T\n",
              "3  7472455  ...       A45D,A47L\n",
              "4  7474526  ...       G06F,H01L\n",
              "\n",
              "[5 rows x 5 columns]"
            ]
          },
          "metadata": {},
          "execution_count": 51
        }
      ]
    },
    {
      "cell_type": "code",
      "metadata": {
        "colab": {
          "base_uri": "https://localhost:8080/",
          "height": 36
        },
        "id": "0xfKUxjwdU0X",
        "outputId": "bf066737-50e5-4606-c48a-15c6b7d229a2"
      },
      "source": [
        "df_n['Title'][0]"
      ],
      "execution_count": null,
      "outputs": [
        {
          "output_type": "execute_result",
          "data": {
            "application/vnd.google.colaboratory.intrinsic+json": {
              "type": "string"
            },
            "text/plain": [
              "'Topical anti-inflammatory pharmaceutical composition with zileuton cream formulation'"
            ]
          },
          "metadata": {},
          "execution_count": 10
        }
      ]
    },
    {
      "cell_type": "code",
      "metadata": {
        "id": "TQgEruCFbZiL"
      },
      "source": [
        "df_2019 = pd.read_csv('/content/drive/MyDrive/classification/cpc_dataset_2010_2020/2018.csv')"
      ],
      "execution_count": null,
      "outputs": []
    },
    {
      "cell_type": "code",
      "metadata": {
        "colab": {
          "base_uri": "https://localhost:8080/",
          "height": 206
        },
        "id": "wKpgXf1nbtKk",
        "outputId": "e1df9040-dc6a-42d8-9b45-51dc4f70bb45"
      },
      "source": [
        "df_2019.head()"
      ],
      "execution_count": null,
      "outputs": [
        {
          "output_type": "execute_result",
          "data": {
            "text/html": [
              "<div>\n",
              "<style scoped>\n",
              "    .dataframe tbody tr th:only-of-type {\n",
              "        vertical-align: middle;\n",
              "    }\n",
              "\n",
              "    .dataframe tbody tr th {\n",
              "        vertical-align: top;\n",
              "    }\n",
              "\n",
              "    .dataframe thead th {\n",
              "        text-align: right;\n",
              "    }\n",
              "</style>\n",
              "<table border=\"1\" class=\"dataframe\">\n",
              "  <thead>\n",
              "    <tr style=\"text-align: right;\">\n",
              "      <th></th>\n",
              "      <th>Unnamed: 0</th>\n",
              "      <th>cpc_ids</th>\n",
              "      <th>id</th>\n",
              "      <th>date</th>\n",
              "      <th>text</th>\n",
              "    </tr>\n",
              "  </thead>\n",
              "  <tbody>\n",
              "    <tr>\n",
              "      <th>0</th>\n",
              "      <td>0</td>\n",
              "      <td>G06F,Y02B,Y02D</td>\n",
              "      <td>10168758</td>\n",
              "      <td>2019-01-01</td>\n",
              "      <td>1. A processor comprising: a plurality of core...</td>\n",
              "    </tr>\n",
              "    <tr>\n",
              "      <th>1</th>\n",
              "      <td>1</td>\n",
              "      <td>A41D,A61F,B60N</td>\n",
              "      <td>10166898</td>\n",
              "      <td>2019-01-01</td>\n",
              "      <td>1. A device for supporting a person's arms in ...</td>\n",
              "    </tr>\n",
              "    <tr>\n",
              "      <th>2</th>\n",
              "      <td>2</td>\n",
              "      <td>G05F,H02M,H03K</td>\n",
              "      <td>10168718</td>\n",
              "      <td>2019-01-01</td>\n",
              "      <td>1. A driving controller configured to drive a ...</td>\n",
              "    </tr>\n",
              "    <tr>\n",
              "      <th>3</th>\n",
              "      <td>3</td>\n",
              "      <td>G01C,G08G</td>\n",
              "      <td>10169986</td>\n",
              "      <td>2019-01-01</td>\n",
              "      <td>1. A method comprising: collecting, by one or ...</td>\n",
              "    </tr>\n",
              "    <tr>\n",
              "      <th>4</th>\n",
              "      <td>4</td>\n",
              "      <td>H04B,H04W,H05K</td>\n",
              "      <td>10171977</td>\n",
              "      <td>2019-01-01</td>\n",
              "      <td>1. A communication network in a power converte...</td>\n",
              "    </tr>\n",
              "  </tbody>\n",
              "</table>\n",
              "</div>"
            ],
            "text/plain": [
              "   Unnamed: 0  ...                                               text\n",
              "0           0  ...  1. A processor comprising: a plurality of core...\n",
              "1           1  ...  1. A device for supporting a person's arms in ...\n",
              "2           2  ...  1. A driving controller configured to drive a ...\n",
              "3           3  ...  1. A method comprising: collecting, by one or ...\n",
              "4           4  ...  1. A communication network in a power converte...\n",
              "\n",
              "[5 rows x 5 columns]"
            ]
          },
          "metadata": {},
          "execution_count": 14
        }
      ]
    },
    {
      "cell_type": "code",
      "metadata": {
        "colab": {
          "base_uri": "https://localhost:8080/"
        },
        "id": "0uPbp-GfcElT",
        "outputId": "023b1200-0986-4501-f010-654f6e1abf3e"
      },
      "source": [
        "df_n[df_n['cpc_subclass']=='G06F,Y02B,Y02D']['ID']"
      ],
      "execution_count": null,
      "outputs": [
        {
          "output_type": "execute_result",
          "data": {
            "text/plain": [
              "2990      10168758\n",
              "38966     10203901\n",
              "47094     10216440\n",
              "119309    10289191\n",
              "156985    10324871\n",
              "Name: ID, dtype: object"
            ]
          },
          "metadata": {},
          "execution_count": 46
        }
      ]
    },
    {
      "cell_type": "code",
      "metadata": {
        "colab": {
          "base_uri": "https://localhost:8080/"
        },
        "id": "GoVuOrjocPGL",
        "outputId": "8efeeafa-8a0b-471b-adb0-ae3188402e53"
      },
      "source": [
        "df_2019[df_2019['cpc_ids']=='G06F,Y02B,Y02D']['id']"
      ],
      "execution_count": null,
      "outputs": [
        {
          "output_type": "execute_result",
          "data": {
            "text/plain": [
              "0         10168758\n",
              "37591     10203901\n",
              "50110     10216440\n",
              "118675    10289191\n",
              "155167    10324871\n",
              "Name: id, dtype: int64"
            ]
          },
          "metadata": {},
          "execution_count": 45
        }
      ]
    },
    {
      "cell_type": "code",
      "metadata": {
        "colab": {
          "base_uri": "https://localhost:8080/"
        },
        "id": "ExxOkdf8by71",
        "outputId": "cf760db1-74b3-43e3-e167-97cf15f7c4c8"
      },
      "source": [
        "df_2019.shape"
      ],
      "execution_count": null,
      "outputs": [
        {
          "output_type": "execute_result",
          "data": {
            "text/plain": [
              "(200452, 5)"
            ]
          },
          "metadata": {},
          "execution_count": 15
        }
      ]
    },
    {
      "cell_type": "code",
      "metadata": {
        "id": "HyTwcsPwDvWA"
      },
      "source": [
        "df_n.to_csv('/content/drive/MyDrive/classification/cpc_dataset_2010_2020/2018.csv')"
      ],
      "execution_count": null,
      "outputs": []
    },
    {
      "cell_type": "code",
      "metadata": {
        "colab": {
          "base_uri": "https://localhost:8080/"
        },
        "id": "v95E7fRDE-bw",
        "outputId": "575a579f-762c-4b14-e14e-3826d032b0bc"
      },
      "source": [
        "df_n.cpc_ids.value_counts()"
      ],
      "execution_count": null,
      "outputs": [
        {
          "output_type": "execute_result",
          "data": {
            "text/plain": [
              "G06F                   8541\n",
              "H01L                   7067\n",
              "H04L                   5472\n",
              "H04N                   3420\n",
              "G11B                   2470\n",
              "                       ... \n",
              "C07K,C12N,Y10S,Y10T       1\n",
              "H03L,H04H                 1\n",
              "A61F,Y02A                 1\n",
              "C10L,Y02P                 1\n",
              "A63H,B32B,G09F,Y10T       1\n",
              "Name: cpc_ids, Length: 23672, dtype: int64"
            ]
          },
          "metadata": {},
          "execution_count": 81
        }
      ]
    },
    {
      "cell_type": "code",
      "metadata": {
        "colab": {
          "base_uri": "https://localhost:8080/",
          "height": 206
        },
        "id": "k8QU7bK9CvI-",
        "outputId": "ec9a48d8-d925-491c-8917-3740d5cc3c10"
      },
      "source": [
        "df.head()"
      ],
      "execution_count": null,
      "outputs": [
        {
          "output_type": "execute_result",
          "data": {
            "text/html": [
              "<div>\n",
              "<style scoped>\n",
              "    .dataframe tbody tr th:only-of-type {\n",
              "        vertical-align: middle;\n",
              "    }\n",
              "\n",
              "    .dataframe tbody tr th {\n",
              "        vertical-align: top;\n",
              "    }\n",
              "\n",
              "    .dataframe thead th {\n",
              "        text-align: right;\n",
              "    }\n",
              "</style>\n",
              "<table border=\"1\" class=\"dataframe\">\n",
              "  <thead>\n",
              "    <tr style=\"text-align: right;\">\n",
              "      <th></th>\n",
              "      <th>cpc_class</th>\n",
              "      <th>abstract</th>\n",
              "    </tr>\n",
              "  </thead>\n",
              "  <tbody>\n",
              "    <tr>\n",
              "      <th>0</th>\n",
              "      <td>B21C</td>\n",
              "      <td>A stainless steel pipe of the bright annealing...</td>\n",
              "    </tr>\n",
              "    <tr>\n",
              "      <th>1</th>\n",
              "      <td>C12Y</td>\n",
              "      <td>The present invention relates generally to α-L...</td>\n",
              "    </tr>\n",
              "    <tr>\n",
              "      <th>2</th>\n",
              "      <td>A01K</td>\n",
              "      <td>With known fishing reels of the anti-reverse t...</td>\n",
              "    </tr>\n",
              "    <tr>\n",
              "      <th>3</th>\n",
              "      <td>B65G</td>\n",
              "      <td>A tilting conveyor cart for a sorting conveyor...</td>\n",
              "    </tr>\n",
              "    <tr>\n",
              "      <th>4</th>\n",
              "      <td>F16F</td>\n",
              "      <td>The crankshaft of a piston engine is assembled...</td>\n",
              "    </tr>\n",
              "  </tbody>\n",
              "</table>\n",
              "</div>"
            ],
            "text/plain": [
              "  cpc_class                                           abstract\n",
              "0      B21C  A stainless steel pipe of the bright annealing...\n",
              "1      C12Y  The present invention relates generally to α-L...\n",
              "2      A01K  With known fishing reels of the anti-reverse t...\n",
              "3      B65G  A tilting conveyor cart for a sorting conveyor...\n",
              "4      F16F  The crankshaft of a piston engine is assembled..."
            ]
          },
          "metadata": {},
          "execution_count": 19
        }
      ]
    }
  ]
}