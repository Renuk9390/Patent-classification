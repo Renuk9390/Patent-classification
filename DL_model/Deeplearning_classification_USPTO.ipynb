{
  "cells": [
    {
      "cell_type": "code",
      "execution_count": null,
      "metadata": {
        "id": "7vLFehYoPCno"
      },
      "outputs": [],
      "source": [
        "from tensorflow.keras import layers\n",
        "from tensorflow import keras\n",
        "import tensorflow as tf\n",
        "\n",
        "from sklearn.model_selection import train_test_split\n",
        "from ast import literal_eval\n",
        "\n",
        "import matplotlib.pyplot as plt\n",
        "import pandas as pd\n",
        "import numpy as np"
      ]
    },
    {
      "cell_type": "code",
      "execution_count": null,
      "metadata": {
        "id": "CPDdrVh0KkyV",
        "outputId": "534a357e-5356-43f1-8467-dcdb936b3093"
      },
      "outputs": [
        {
          "name": "stdout",
          "output_type": "stream",
          "text": [
            "No GPU found\n"
          ]
        }
      ],
      "source": [
        "import os\n",
        "import tensorflow as tf\n",
        "\n",
        "os.environ['CUDA_VISIBLE_DEVICES'] = '-1'\n",
        "\n",
        "if tf.test.gpu_device_name():\n",
        "    print('GPU found')\n",
        "else:\n",
        "    print(\"No GPU found\")"
      ]
    },
    {
      "cell_type": "markdown",
      "metadata": {
        "id": "UnzXh4nA-sIV"
      },
      "source": [
        "## U2M"
      ]
    },
    {
      "cell_type": "code",
      "execution_count": null,
      "metadata": {
        "id": "90H9CYLWfeHL"
      },
      "outputs": [],
      "source": [
        "df_2006 = pd.read_json('2006_USPTO.json')\n",
        "df_2007 = pd.read_json('2007_USPTO.json')\n",
        "df_2008 = pd.read_json('2008_USPTO.json')\n",
        "df_2009 = pd.read_json('2009_USPTO.json')\n",
        "df_2010 = pd.read_json('2010_USPTO.json')\n",
        "df_2011 = pd.read_json('2011_USPTO.json')\n",
        "df_2012 = pd.read_json('2012_USPTO.json')\n",
        "df_2013 = pd.read_json('2013_USPTO.json')\n",
        "df_2014 = pd.read_json('2014_USPTO.json')\n",
        "df_2015 = pd.read_json('2015_USPTO.json')"
      ]
    },
    {
      "cell_type": "code",
      "execution_count": null,
      "metadata": {
        "id": "uNGMuLK4kmKR"
      },
      "outputs": [],
      "source": [
        "df = pd.concat([df_2006, df_2007, df_2008, df_2009, df_2010, df_2011, df_2012, df_2013, df_2014, df_2015], axis=0, ignore_index=True)"
      ]
    },
    {
      "cell_type": "code",
      "execution_count": null,
      "metadata": {
        "id": "xf4SR4CcDe0O"
      },
      "outputs": [],
      "source": [
        "from sklearn.utils import shuffle\n",
        "df = shuffle(df,random_state=101)"
      ]
    },
    {
      "cell_type": "code",
      "execution_count": null,
      "metadata": {
        "id": "HuQMFqOrquzc"
      },
      "outputs": [],
      "source": [
        "#df = df[:1000000]"
      ]
    },
    {
      "cell_type": "code",
      "execution_count": null,
      "metadata": {
        "id": "T7CfI5r6Win3"
      },
      "outputs": [],
      "source": [
        ""
      ]
    },
    {
      "cell_type": "code",
      "execution_count": null,
      "metadata": {
        "colab": {
          "base_uri": "https://localhost:8080/"
        },
        "id": "qc4tFII3WuAX",
        "outputId": "2282edda-ce96-4625-889e-ceb101998748"
      },
      "outputs": [
        {
          "name": "stdout",
          "output_type": "stream",
          "text": [
            "There are 2000147 rows in the dataset.\n"
          ]
        }
      ],
      "source": [
        "print(f\"There are {len(df)} rows in the dataset.\")"
      ]
    },
    {
      "cell_type": "code",
      "execution_count": null,
      "metadata": {
        "id": "Cily-g8mWyBY"
      },
      "outputs": [],
      "source": [
        "total_duplicate_titles = sum(df[\"Title\"].duplicated())\n",
        "print(f\"There are {total_duplicate_titles} duplicate titles.\")"
      ]
    },
    {
      "cell_type": "code",
      "execution_count": null,
      "metadata": {
        "colab": {
          "base_uri": "https://localhost:8080/"
        },
        "id": "WdV7B1j8XxvA",
        "outputId": "f7f54204-002d-43ee-b705-b1682c4d6bf1"
      },
      "outputs": [
        {
          "name": "stdout",
          "output_type": "stream",
          "text": [
            "Number of rows in training set: 1800132\n",
            "Number of rows in validation set: 100008\n",
            "Number of rows in test set: 100007\n"
          ]
        }
      ],
      "source": [
        "test_split = 0.1\n",
        "\n",
        "# Initial train and test split.\n",
        "train_df, test_df = train_test_split(\n",
        "    df,\n",
        "    test_size=test_split\n",
        ")\n",
        "\n",
        "# Splitting the test set further into validation\n",
        "# and new test sets.\n",
        "val_df = test_df.sample(frac=0.5)\n",
        "test_df.drop(val_df.index, inplace=True)\n",
        "\n",
        "print(f\"Number of rows in training set: {len(train_df)}\")\n",
        "print(f\"Number of rows in validation set: {len(val_df)}\")\n",
        "print(f\"Number of rows in test set: {len(test_df)}\")"
      ]
    },
    {
      "cell_type": "code",
      "execution_count": null,
      "metadata": {
        "colab": {
          "base_uri": "https://localhost:8080/"
        },
        "id": "jNrv3ckcZOlo",
        "outputId": "da49111d-1b79-4c7c-8636-010a5b1f405d"
      },
      "outputs": [
        {
          "name": "stdout",
          "output_type": "stream",
          "text": [
            "Vocabulary:\n",
            "\n",
            "['[UNK]', 'G06F', 'H01L', 'H04L', 'A61K', 'H04N', 'G06K', 'H04B', 'A61B', 'G01N', 'G02B', 'C07D', 'G06Q', 'H04M', 'H04W', 'C12N', 'G09G', 'G11C', 'G11B', 'G01R', 'B32B', 'A61F', 'H01R', 'B41J', 'H04J', 'G03G', 'G02F', 'H05K', 'B01D', 'A61M', 'C07C', 'A01H', 'C07K', 'H01M', 'H01J', 'B65D', 'C07H', 'G08B', 'G03B', 'A01N', 'C12Q', 'H03K', 'E21B', 'B29C', 'C12P', 'H03M', 'F21V', 'H04Q', 'A61N', 'A63B', 'H05B', 'G01B', 'C08F', 'B01J', 'B60R', 'G06T', 'F16H', 'A63F', 'H01Q', 'G01C', 'G03F', 'C08G', 'H04R', 'B65H', 'H02K', 'C08L', 'B05D', 'G10L', 'G05F', 'G05B', 'C09K', 'B62D', 'H02J', 'H01H', 'C23C', 'G01J', 'G01S', 'F16K', 'G01V', 'C08K', 'H01S', 'H02P', 'G05D', 'B23K', 'F16L', 'A61P', 'F16D', 'H04K', 'B65G', 'B60K', 'B65B', 'H03F', 'H02H', 'F02M', 'H02M', 'C01B', 'B23P', 'A01K', 'F01D', 'A47B', 'A47C', 'G06G', 'F02B', 'H03L', 'H01F', 'G01M', 'C02F', 'G01F', 'H01B', 'F01N', 'B21D', 'E04B', 'C09D', 'F16C', 'H03H', 'B08B', 'F04B', 'G01L', 'B05B', 'C07F', 'B60Q', 'C04B', 'F02D', 'G01D', 'A61L', 'B64C', 'G08C', 'B24B', 'G06N', 'C08J', 'B25B', 'C11D', 'A47G', 'G09F', 'F16B', 'A61C', 'B60T', 'F25B', 'B01F', 'G07F', 'F02C', 'C12M', 'H01G', 'A47L', 'G08G', 'B60C', 'H03B', 'B60N', 'H04H', 'B60W', 'B60J', 'E04H', 'A23L', 'A47J', 'B23B', 'H03D', 'F25D', 'F01L', 'B29D', 'G01T', 'G09B', 'B60L', 'B63B', 'H01P', 'F04D', 'A47F', 'H02G', 'C03C', 'A61Q', 'B67D', 'E05B', 'G01P', 'C22C', 'F28F', 'F03D', 'B01L', 'B05C', 'C23F', 'B60P', 'F16F', 'G01K', 'B23Q', 'E06B', 'F16M', 'C10G', 'F21S', 'G21K', 'B64D', 'B02C', 'G02C', 'A62B', 'E04C', 'A41D', 'G03C', 'A43B', 'B63H', 'A63H', 'C30B', 'B60G', 'H03G', 'F42B', 'A61G', 'B28B', 'C03B', 'B62B', 'A61H', 'B26D', 'B41M', 'G10H', 'F16J', 'A01G', 'F28D', 'A01D', 'F41A', 'E04G', 'H05G', 'C25D', 'B44C', 'E05C', 'A47K', 'D06F', 'B41F', 'E05D', 'B22D', 'F26B', 'B25J', 'A45D', 'B22F', 'C10L', 'F03B', 'B82Y', 'B26B', 'A46B', 'C10M', 'A44B', 'E02D', 'G10D', 'C01G', 'G04B', 'H02N', 'C25B', 'B62K', 'E05F', 'E04D', 'A01B', 'E01C', 'F15B', 'B66B', 'F01B', 'E04F', 'B66C', 'F24F', 'C09J', 'E02F', 'D21H', 'G21C', 'A62C', 'B60B', 'H02B', 'F02K', 'F04C', 'C09B', 'H05H', 'F41B', 'B62M', 'A45C', 'H01C', 'B60H', 'D04H', 'C08B', 'F41G', 'G05G', 'G03H', 'D03D', 'C22B', 'B60S', 'D21F', 'C21D', 'A63C', 'B66F', 'G01G', 'B23C', 'F02P', 'B29B', 'F02G', 'F01M', 'H03C', 'H01T', 'B43K', 'B31B', 'B03C', 'A45F', 'B42D', 'B21K', 'F02N', 'D01F', 'A01C', 'E02B', 'B23D', 'B25C', 'F03C', 'F01C', 'F01P', 'F23D', 'G07D', 'F02F', 'H01K', 'D02G', 'B62J', 'F21L', 'G07B', 'F16G', 'B24D', 'F01K', 'A01M', 'C09C', 'A22C', 'B21B', 'B30B', 'C01F', 'F24J', 'B60D', 'F41C', 'F41H', 'B25G', 'G10K', 'A47D', 'A42B', 'F27B', 'B07C', 'F24C', 'F24H', 'C40B', 'E01F', 'B31F', 'A47H', 'G06E', 'D05B', 'B21J', 'A61J', 'A44C', 'E03D', 'G07C', 'F17C', 'F27D', 'B27B', 'B07B', 'B67B', 'A23G', 'B63C', 'B64G', 'B61D', 'F25C', 'D04B', 'B21C', 'B22C', 'B66D', 'A63G', 'B25D', 'B04B', 'D21C', 'A23C', 'A23K', 'A45B', 'E03C', 'C22F', 'A62D', 'E01H', 'C07J', 'F03G', 'G21G', 'E03B', 'A21B', 'F21Y', 'A24F', 'B21F', 'A41C', 'D01D', 'G01H', 'D06M', 'C08C', 'B26F', 'B43L', 'A01J', 'G04F', 'E01B', 'B42F', 'C10J', 'G21F', 'E21C', 'C21B', 'A23J', 'A43C', 'F23Q', 'E06C', 'G04C', 'F25J', 'B23H', 'E01D', 'A41B', 'A23D', 'B29L', 'G06M', 'B25F', 'F17D', 'C07B', 'C25F', 'F22B', 'C06B', 'A01F', 'A21D', 'A61D', 'F23R', 'F21K', 'C11B', 'B28D', 'A23B', 'C25C', 'F23N', 'C01D', 'B41L', 'C10B', 'B65C', 'A01P', 'C21C', 'B61L', 'B61B', 'G01Q', 'D05C', 'B06B', 'F42C', 'G07G', 'G01W', 'B64F', 'E21D', 'B09B', 'B29K', 'F16N', 'B27C', 'H05F', 'B41N', 'B27N', 'F24D', 'F23C', 'E03F', 'B81C', 'B63G', 'C01C', 'B24C', 'G12B', 'B67C', 'C11C', 'G09C', 'F23J', 'F04F', 'A23P', 'A23F', 'C05F', 'A21C', 'D06P', 'B42C', 'F23G', 'G03D', 'B81B', 'B03B', 'B25H', 'F41J', 'F41F', 'A24B', 'B61C', 'B82B', 'C07G', 'B41C', 'B03D', 'B65F', 'A41F', 'F15C', 'F15D', 'D06L', 'A23N', 'A63D', 'F24B', 'B61F', 'G10C', 'C23G', 'D01H', 'C09G', 'B09C', 'B43M', 'D06N', 'A22B', 'C05D', 'B27G', 'A24D', 'B68G', 'D06C', 'B28C', 'B27F', 'F23M', 'F23L', 'D01G', 'C08H', 'A41G', 'B64B', 'B41K', 'B02B', 'B44F', 'F21W', 'B62L', 'B62H', 'F23B', 'B61G', 'B42B', 'B23F', 'H04S', 'C05C', 'A24C', 'A63J', 'H03J', 'G10G', 'D06B', 'C13K', 'B41B', 'F23K', 'C10C', 'C12C', 'B44D', 'B68C', 'D21G', 'E21F', 'A43D', 'A41H', 'F42D', 'B04C', 'D04C', 'B61K', 'B31D', 'F16P', 'D21B', 'D01C', 'D02J', 'C10K', 'A46D', 'B31C', 'G04G', 'D03C', 'E05G', 'C05B', 'B21H', 'G06C', 'B27L', 'B27M', 'C12H', 'G21H', 'B61H', 'B60F', 'F03H', 'C14C', 'C06C', 'G10F', 'C12G', 'B62C', 'F28G', 'B68B', 'B23G', 'D07B', 'A42C', 'C06D', 'A01L', 'B60M', 'B21L', 'B27K', 'C12S', 'C09F', 'F28C', 'C12R', 'F28B', 'G21D', 'D21D', 'B44B', 'C05G', 'B63J', 'G09D', 'F16T', 'D03J', 'C13B', 'G06J', 'F22D', 'B27D', 'B01B', 'D21J', 'G21B', 'G06D', 'F23H', 'D01B', 'B60V', 'F22G', 'H05C', 'B61J', 'A63K', 'C14B', 'B21G', 'B27H', 'C06F', 'G04D', 'E02C', 'B27J', 'D02H', 'D06H', 'C09H', 'B41D', 'C12F', 'D06Q', 'D04D', 'C23D', 'B41G', 'G10B', 'D04G', 'C10F', 'F16S', 'D06J', 'D06G', 'F17B', 'C12J', 'C10N', 'C10H', 'F21H', 'A99Z', 'G21J', 'F99Z', 'C99Z', 'C12L']\n"
          ]
        }
      ],
      "source": [
        "Subclass_labels = tf.ragged.constant(train_df[\"Subclass_labels\"].values)\n",
        "lookup = tf.keras.layers.StringLookup(output_mode=\"multi_hot\")\n",
        "lookup.adapt(Subclass_labels)\n",
        "vocab = lookup.get_vocabulary()\n",
        "\n",
        "\n",
        "def invert_multi_hot(encoded_labels):\n",
        "    \"\"\"Reverse a single multi-hot encoded label to a tuple of vocab Subclass_labels.\"\"\"\n",
        "    hot_indices = np.argwhere(encoded_labels == 1.0)[..., 0]\n",
        "    return np.take(vocab, hot_indices)\n",
        "\n",
        "\n",
        "print(\"Vocabulary:\\n\")\n",
        "print(vocab)"
      ]
    },
    {
      "cell_type": "code",
      "execution_count": null,
      "metadata": {
        "colab": {
          "base_uri": "https://localhost:8080/"
        },
        "id": "sWovGrBEZc4k",
        "outputId": "5c906b09-d7b6-4215-e2a0-3f705688ef47"
      },
      "outputs": [
        {
          "name": "stdout",
          "output_type": "stream",
          "text": [
            "632\n"
          ]
        }
      ],
      "source": [
        "print(len(vocab))"
      ]
    },
    {
      "cell_type": "code",
      "execution_count": null,
      "metadata": {
        "colab": {
          "base_uri": "https://localhost:8080/"
        },
        "id": "243imX8DZgAJ",
        "outputId": "911e3a30-1dbc-4510-8d20-87d86f1c93d0"
      },
      "outputs": [
        {
          "name": "stdout",
          "output_type": "stream",
          "text": [
            "Original label: ['E21B']\n",
            "Label-binarized representation: [[0. 0. 0. 0. 0. 0. 0. 0. 0. 0. 0. 0. 0. 0. 0. 0. 0. 0. 0. 0. 0. 0. 0. 0.\n",
            "  0. 0. 0. 0. 0. 0. 0. 0. 0. 0. 0. 0. 0. 0. 0. 0. 0. 0. 1. 0. 0. 0. 0. 0.\n",
            "  0. 0. 0. 0. 0. 0. 0. 0. 0. 0. 0. 0. 0. 0. 0. 0. 0. 0. 0. 0. 0. 0. 0. 0.\n",
            "  0. 0. 0. 0. 0. 0. 0. 0. 0. 0. 0. 0. 0. 0. 0. 0. 0. 0. 0. 0. 0. 0. 0. 0.\n",
            "  0. 0. 0. 0. 0. 0. 0. 0. 0. 0. 0. 0. 0. 0. 0. 0. 0. 0. 0. 0. 0. 0. 0. 0.\n",
            "  0. 0. 0. 0. 0. 0. 0. 0. 0. 0. 0. 0. 0. 0. 0. 0. 0. 0. 0. 0. 0. 0. 0. 0.\n",
            "  0. 0. 0. 0. 0. 0. 0. 0. 0. 0. 0. 0. 0. 0. 0. 0. 0. 0. 0. 0. 0. 0. 0. 0.\n",
            "  0. 0. 0. 0. 0. 0. 0. 0. 0. 0. 0. 0. 0. 0. 0. 0. 0. 0. 0. 0. 0. 0. 0. 0.\n",
            "  0. 0. 0. 0. 0. 0. 0. 0. 0. 0. 0. 0. 0. 0. 0. 0. 0. 0. 0. 0. 0. 0. 0. 0.\n",
            "  0. 0. 0. 0. 0. 0. 0. 0. 0. 0. 0. 0. 0. 0. 0. 0. 0. 0. 0. 0. 0. 0. 0. 0.\n",
            "  0. 0. 0. 0. 0. 0. 0. 0. 0. 0. 0. 0. 0. 0. 0. 0. 0. 0. 0. 0. 0. 0. 0. 0.\n",
            "  0. 0. 0. 0. 0. 0. 0. 0. 0. 0. 0. 0. 0. 0. 0. 0. 0. 0. 0. 0. 0. 0. 0. 0.\n",
            "  0. 0. 0. 0. 0. 0. 0. 0. 0. 0. 0. 0. 0. 0. 0. 0. 0. 0. 0. 0. 0. 0. 0. 0.\n",
            "  0. 0. 0. 0. 0. 0. 0. 0. 0. 0. 0. 0. 0. 0. 0. 0. 0. 0. 0. 0. 0. 0. 0. 0.\n",
            "  0. 0. 0. 0. 0. 0. 0. 0. 0. 0. 0. 0. 0. 0. 0. 0. 0. 0. 0. 0. 0. 0. 0. 0.\n",
            "  0. 0. 0. 0. 0. 0. 0. 0. 0. 0. 0. 0. 0. 0. 0. 0. 0. 0. 0. 0. 0. 0. 0. 0.\n",
            "  0. 0. 0. 0. 0. 0. 0. 0. 0. 0. 0. 0. 0. 0. 0. 0. 0. 0. 0. 0. 0. 0. 0. 0.\n",
            "  0. 0. 0. 0. 0. 0. 0. 0. 0. 0. 0. 0. 0. 0. 0. 0. 0. 0. 0. 0. 0. 0. 0. 0.\n",
            "  0. 0. 0. 0. 0. 0. 0. 0. 0. 0. 0. 0. 0. 0. 0. 0. 0. 0. 0. 0. 0. 0. 0. 0.\n",
            "  0. 0. 0. 0. 0. 0. 0. 0. 0. 0. 0. 0. 0. 0. 0. 0. 0. 0. 0. 0. 0. 0. 0. 0.\n",
            "  0. 0. 0. 0. 0. 0. 0. 0. 0. 0. 0. 0. 0. 0. 0. 0. 0. 0. 0. 0. 0. 0. 0. 0.\n",
            "  0. 0. 0. 0. 0. 0. 0. 0. 0. 0. 0. 0. 0. 0. 0. 0. 0. 0. 0. 0. 0. 0. 0. 0.\n",
            "  0. 0. 0. 0. 0. 0. 0. 0. 0. 0. 0. 0. 0. 0. 0. 0. 0. 0. 0. 0. 0. 0. 0. 0.\n",
            "  0. 0. 0. 0. 0. 0. 0. 0. 0. 0. 0. 0. 0. 0. 0. 0. 0. 0. 0. 0. 0. 0. 0. 0.\n",
            "  0. 0. 0. 0. 0. 0. 0. 0. 0. 0. 0. 0. 0. 0. 0. 0. 0. 0. 0. 0. 0. 0. 0. 0.\n",
            "  0. 0. 0. 0. 0. 0. 0. 0. 0. 0. 0. 0. 0. 0. 0. 0. 0. 0. 0. 0. 0. 0. 0. 0.\n",
            "  0. 0. 0. 0. 0. 0. 0. 0.]]\n"
          ]
        }
      ],
      "source": [
        "sample_label = train_df[\"Subclass_labels\"].iloc[0]\n",
        "print(f\"Original label: {sample_label}\")\n",
        "\n",
        "label_binarized = lookup([sample_label])\n",
        "print(f\"Label-binarized representation: {label_binarized}\")"
      ]
    },
    {
      "cell_type": "code",
      "execution_count": null,
      "metadata": {
        "colab": {
          "base_uri": "https://localhost:8080/"
        },
        "id": "8bSlQWfqZn2m",
        "outputId": "7826df82-9e68-4827-ea22-f66771283c7e"
      },
      "outputs": [
        {
          "data": {
            "text/plain": [
              "count    1.800132e+06\n",
              "mean     1.090734e+02\n",
              "std      4.308891e+01\n",
              "min      1.000000e+00\n",
              "25%      7.800000e+01\n",
              "50%      1.110000e+02\n",
              "75%      1.410000e+02\n",
              "max      5.090000e+02\n",
              "Name: Abstract, dtype: float64"
            ]
          },
          "execution_count": 14,
          "metadata": {},
          "output_type": "execute_result"
        }
      ],
      "source": [
        "train_df[\"Abstract\"].apply(lambda x: len(x.split(\" \"))).describe()"
      ]
    },
    {
      "cell_type": "code",
      "execution_count": null,
      "metadata": {
        "id": "VQHQGAzqZuhw"
      },
      "outputs": [],
      "source": [
        "max_seqlen = 109\n",
        "batch_size = 32\n",
        "padding_token = \"<pad>\"\n",
        "auto = tf.data.AUTOTUNE\n",
        "\n",
        "\n",
        "def unify_text_length(text, label):\n",
        "    # Split the given abstract and calculate its length.\n",
        "    word_splits = tf.strings.split(text, sep=\" \")\n",
        "    sequence_length = tf.shape(word_splits)[0]\n",
        "\n",
        "    # Calculate the padding amount.\n",
        "    padding_amount = max_seqlen - sequence_length\n",
        "\n",
        "    # Check if we need to pad or truncate.\n",
        "    if padding_amount > 0:\n",
        "        unified_text = tf.pad([text], [[0, padding_amount]], constant_values=\"<pad>\")\n",
        "        unified_text = tf.strings.reduce_join(unified_text, separator=\"\")\n",
        "    else:\n",
        "        unified_text = tf.strings.reduce_join(word_splits[:max_seqlen], separator=\" \")\n",
        "\n",
        "    # The expansion is needed for subsequent vectorization.\n",
        "    return tf.expand_dims(unified_text, -1), label\n",
        "\n",
        "\n",
        "def make_dataset(dataframe, is_train=True):\n",
        "    labels = tf.ragged.constant(dataframe[\"Subclass_labels\"].values)\n",
        "    label_binarized = lookup(labels).numpy()\n",
        "    dataset = tf.data.Dataset.from_tensor_slices(\n",
        "        (dataframe[\"Abstract\"].values, label_binarized)\n",
        "    )\n",
        "    dataset = dataset.shuffle(batch_size * 10) if is_train else dataset\n",
        "    dataset = dataset.map(unify_text_length, num_parallel_calls=auto).cache()\n",
        "    return dataset.batch(batch_size)"
      ]
    },
    {
      "cell_type": "code",
      "execution_count": null,
      "metadata": {
        "id": "2nUxNzHIZ76a"
      },
      "outputs": [],
      "source": [
        "train_dataset = make_dataset(train_df, is_train=True)\n",
        "validation_dataset = make_dataset(val_df, is_train=False)\n",
        "test_dataset = make_dataset(test_df, is_train=False)"
      ]
    },
    {
      "cell_type": "code",
      "execution_count": null,
      "metadata": {
        "colab": {
          "base_uri": "https://localhost:8080/"
        },
        "id": "0oFNtQBZZ_hV",
        "outputId": "c0491de4-87c7-4845-db02-6ddd6e738182"
      },
      "outputs": [
        {
          "name": "stdout",
          "output_type": "stream",
          "text": [
            "Abstract: b'a grounding system for a semiconductor module of a variable speed drive includes a first conductive layer a second conductive layer a substrate disposed between the first conductive layer and the second conductive layer and a base attached to the second conductive layer the base being connected to earth ground via a grounding harness the first conductive layer is in electrical contact with the semiconductor module and the substrate and electrically insulated from the second conductive layer by the substrate the second conductive layer is in electrical contact with the substrate and disposed between the substrate and the base in electrical communication with an earth ground the first conductive'\n",
            "Label(s): ['H01L']\n",
            " \n",
            "Abstract: b'an obstacle detection device mountable on a surface of a movable body includes a transmitting portion for transmitting a transmitting wave a receiving portion for receiving a reflected wave from an obstacle a distance calculating portion a direction calculating portion a distance storing portion a direction storing portion a distance change calculating portion a direction change calculating portion and a determining portion the determining portion determines a shape of the obstacle and a relative position of the obstacle to the movable body based on a direction of the obstacle calculated by the direction calculating portion the amount of distance change calculated by the distance change calculating portion and the'\n",
            "Label(s): ['G01S']\n",
            " \n",
            "Abstract: b'a column attachment having an abutment a platform a tension member and a securing element that are used to provide a stable support for a device the tension member secures the platform to the abutment the securing portion is able to slide along a slot defined in the platform the securing portion is able to attach to devices like total stations and secure them to the platform<pad><pad><pad><pad><pad><pad><pad><pad><pad><pad><pad><pad><pad><pad><pad><pad><pad><pad><pad><pad><pad><pad><pad><pad><pad><pad><pad><pad><pad><pad><pad><pad><pad><pad><pad><pad><pad><pad><pad><pad><pad><pad>'\n",
            "Label(s): ['A47B']\n",
            " \n",
            "Abstract: b'a semiconductor memory device includes memory cells write bit lines read bit lines latch circuits a n channel mos transistor and voltage setting circuits the memory cell includes a first mos transistor having a charge accumulation layer and a control gate the first mos transistors are connected commonly to the write bit lines and read bit lines the latch circuits are provided for the write bit lines and hold write data for the memory cells the n channel mos transistor transfer 1 data to the latch circuits in a data latch operation the voltage setting circuits supply a potential corresponding to 0 data to the write bit lines in'\n",
            "Label(s): ['G11C']\n",
            " \n",
            "Abstract: b'a process is described for preparing alkylene oxide adducted hydrocarbyl amides having less than 2 wt of amine by products by<pad><pad><pad><pad><pad><pad><pad><pad><pad><pad><pad><pad><pad><pad><pad><pad><pad><pad><pad><pad><pad><pad><pad><pad><pad><pad><pad><pad><pad><pad><pad><pad><pad><pad><pad><pad><pad><pad><pad><pad><pad><pad><pad><pad><pad><pad><pad><pad><pad><pad><pad><pad><pad><pad><pad><pad><pad><pad><pad><pad><pad><pad><pad><pad><pad><pad><pad><pad><pad><pad><pad><pad><pad><pad><pad><pad><pad><pad><pad><pad><pad><pad><pad><pad><pad><pad><pad><pad>'\n",
            "Label(s): ['C07C' 'C10L']\n",
            " \n"
          ]
        }
      ],
      "source": [
        "text_batch, label_batch = next(iter(train_dataset))\n",
        "\n",
        "for i, text in enumerate(text_batch[:5]):\n",
        "    label = label_batch[i].numpy()[None, ...]\n",
        "    print(f\"Abstract: {text[0]}\")\n",
        "    print(f\"Label(s): {invert_multi_hot(label[0])}\")\n",
        "    print(\" \")"
      ]
    },
    {
      "cell_type": "code",
      "execution_count": null,
      "metadata": {
        "colab": {
          "base_uri": "https://localhost:8080/"
        },
        "id": "_MeNs7FUaDbI",
        "outputId": "dbb188b2-d39f-40c1-ebb2-b7b3d4fabd67"
      },
      "outputs": [
        {
          "name": "stdout",
          "output_type": "stream",
          "text": [
            "Vocabulary size: 509\n"
          ]
        }
      ],
      "source": [
        "train_df[\"total_words\"] = train_df[\"Abstract\"].str.split().str.len()\n",
        "vocabulary_size = train_df[\"total_words\"].max()\n",
        "print(f\"Vocabulary size: {vocabulary_size}\")"
      ]
    },
    {
      "cell_type": "code",
      "execution_count": null,
      "metadata": {
        "id": "GtAkyxrHaKuw"
      },
      "outputs": [],
      "source": [
        "text_vectorizer = layers.TextVectorization(\n",
        "    max_tokens=vocabulary_size, ngrams=2, output_mode=\"tf_idf\"\n",
        ")\n",
        "\n",
        "# `TextVectorization` layer needs to be adapted as per the vocabulary from our\n",
        "# training set.\n",
        "with tf.device(\"/CPU:0\"):\n",
        "    text_vectorizer.adapt(train_dataset.map(lambda text, label: text))\n",
        "\n",
        "train_dataset = train_dataset.map(\n",
        "    lambda text, label: (text_vectorizer(text), label), num_parallel_calls=auto\n",
        ").prefetch(auto)\n",
        "validation_dataset = validation_dataset.map(\n",
        "    lambda text, label: (text_vectorizer(text), label), num_parallel_calls=auto\n",
        ").prefetch(auto)\n",
        "test_dataset = test_dataset.map(\n",
        "    lambda text, label: (text_vectorizer(text), label), num_parallel_calls=auto\n",
        ").prefetch(auto)"
      ]
    },
    {
      "cell_type": "code",
      "execution_count": null,
      "metadata": {
        "id": "wd4-I-ajaWdE"
      },
      "outputs": [],
      "source": [
        "def make_model():\n",
        "    shallow_mlp_model = keras.Sequential(\n",
        "        [\n",
        "            layers.Dense(512, activation=\"relu\"),\n",
        "            layers.Dense(256, activation=\"relu\"),\n",
        "            layers.Dense(lookup.vocabulary_size(), activation=\"sigmoid\"),\n",
        "        ]  # More on why \"sigmoid\" has been used here in a moment.\n",
        "    )\n",
        "    return shallow_mlp_model"
      ]
    },
    {
      "cell_type": "code",
      "execution_count": null,
      "metadata": {
        "id": "7v1oJQhb3oOu"
      },
      "outputs": [],
      "source": [
        "from keras import backend as K\n",
        "\n",
        "def recall_m(y_true, y_pred):\n",
        "    true_positives = K.sum(K.round(K.clip(y_true * y_pred, 0, 1)))\n",
        "    possible_positives = K.sum(K.round(K.clip(y_true, 0, 1)))\n",
        "    recall = true_positives / (possible_positives + K.epsilon())\n",
        "    return recall\n",
        "\n",
        "def precision_m(y_true, y_pred):\n",
        "    true_positives = K.sum(K.round(K.clip(y_true * y_pred, 0, 1)))\n",
        "    predicted_positives = K.sum(K.round(K.clip(y_pred, 0, 1)))\n",
        "    precision = true_positives / (predicted_positives + K.epsilon())\n",
        "    return precision\n",
        "\n",
        "def f1_m(y_true, y_pred):\n",
        "    precision = precision_m(y_true, y_pred)\n",
        "    recall = recall_m(y_true, y_pred)\n",
        "    return 2*((precision*recall)/(precision+recall+K.epsilon()))"
      ]
    },
    {
      "cell_type": "code",
      "execution_count": null,
      "metadata": {
        "colab": {
          "base_uri": "https://localhost:8080/"
        },
        "id": "zTGjSJxVaewh",
        "outputId": "32436ded-a22b-4d5a-dca9-32e076c0c029"
      },
      "outputs": [
        {
          "name": "stdout",
          "output_type": "stream",
          "text": [
            "Epoch 1/2\n",
            "56255/56255 [==============================] - 1347s 24ms/step - loss: 0.0084 - categorical_accuracy: 0.3575 - f1_m: 0.2610 - precision_m: 0.6900 - recall_m: 0.1642 - val_loss: 0.0080 - val_categorical_accuracy: 0.3654 - val_f1_m: 0.2498 - val_precision_m: 0.7397 - val_recall_m: 0.1531\n",
            "Epoch 2/2\n",
            "56255/56255 [==============================] - 1320s 23ms/step - loss: 0.0080 - categorical_accuracy: 0.3704 - f1_m: 0.2768 - precision_m: 0.7069 - recall_m: 0.1752 - val_loss: 0.0080 - val_categorical_accuracy: 0.3688 - val_f1_m: 0.2527 - val_precision_m: 0.7339 - val_recall_m: 0.1554recision_m: 0.7068 - recall_m:   - ETA: 45s - loss: 0.0080 - categorical_accuracy: 0.3704 - f1_m - ETA: 42s - loss: 0.0080 - categorical_accuracy: 0.3704 - f1_m: 0.2768 - precision_m: 0.70 - ETA: 40s - loss: 0.0080 - categorical_accuracy: 0.3704 - f1_m: 0.2768 - - ETA:   - ETA: 1s - loss: 0.0080 - categorical_accuracy: 0.3704 - f1_m: 0.2\n"
          ]
        }
      ],
      "source": [
        "epochs = 2\n",
        "\n",
        "shallow_mlp_model = make_model()\n",
        "shallow_mlp_model.compile(\n",
        "    loss=\"binary_crossentropy\", optimizer=\"adam\", metrics=[\"categorical_accuracy\",f1_m,precision_m, recall_m]\n",
        ")\n",
        "\n",
        "history = shallow_mlp_model.fit(\n",
        "    train_dataset, validation_data=validation_dataset, epochs=epochs\n",
        ")"
      ]
    },
    {
      "cell_type": "code",
      "execution_count": null,
      "metadata": {
        "id": "jkJIB9ulakYL"
      },
      "outputs": [],
      "source": [
        "from keras.utils.vis_utils import plot_model"
      ]
    },
    {
      "cell_type": "code",
      "execution_count": null,
      "metadata": {
        "id": "nYskgiava6jn"
      },
      "outputs": [],
      "source": [
        " \n",
        "# plot_model(shallow_mlp_model, to_file='/content/drive/MyDrive/figures/classification/dl_model_classification_50.png', show_shapes=True, show_layer_names=True, dpi=50)\n",
        "# plot_model(shallow_mlp_model, to_file='/content/drive/MyDrive/figures/classification/dl_model_classification_400.png', show_shapes=True, show_layer_names=True, dpi=400)"
      ]
    },
    {
      "cell_type": "code",
      "execution_count": null,
      "metadata": {
        "id": "26H_tnFxKkzC"
      },
      "outputs": [],
      "source": [
        "a = len(history.history[\"loss\"])"
      ]
    },
    {
      "cell_type": "code",
      "execution_count": null,
      "metadata": {
        "colab": {
          "base_uri": "https://localhost:8080/",
          "height": 574
        },
        "id": "ZsPCgXTSb-fZ",
        "outputId": "75425393-0c23-40c5-a4c4-bced15a8d5d2"
      },
      "outputs": [
        {
          "data": {
            "image/png": "[encoded data removed]",
            "text/plain": [
              "<Figure size 432x288 with 1 Axes>"
            ]
          },
          "metadata": {
            "needs_background": "light"
          },
          "output_type": "display_data"
        },
        {
          "data": {
            "image/png": "[encoded data removed]",
            "text/plain": [
              "<Figure size 432x288 with 1 Axes>"
            ]
          },
          "metadata": {
            "needs_background": "light"
          },
          "output_type": "display_data"
        }
      ],
      "source": [
        "def plot_result(item):\n",
        "    plt.plot(history.history[item], label=item)\n",
        "    plt.plot(history.history[\"val_\" + item], label=\"val_\" + item)\n",
        "    plt.xlabel(\"Epochs\")\n",
        "    plt.ylabel(item)\n",
        "    plt.title(\"Train and Validation {} Over Epochs\".format(item), fontsize=14)\n",
        "    plt.legend()\n",
        "    plt.grid()\n",
        "    plt.show()\n",
        "\n",
        "\n",
        "plot_result(\"loss\")\n",
        "plot_result(\"categorical_accuracy\")"
      ]
    },
    {
      "cell_type": "code",
      "execution_count": null,
      "metadata": {
        "colab": {
          "base_uri": "https://localhost:8080/",
          "height": 413
        },
        "id": "le7DQqFOxxkO",
        "outputId": "c3771a92-2c74-4575-e6a5-e143acda84b8"
      },
      "outputs": [
        {
          "data": {
            "image/png": "[encoded data removed]",
            "text/plain": [
              "<Figure size 1080x432 with 2 Axes>"
            ]
          },
          "metadata": {
            "needs_background": "light"
          },
          "output_type": "display_data"
        }
      ],
      "source": [
        "plt.figure(figsize=(15,6))\n",
        "plt.subplot(1, 2, 1) \n",
        "plt.plot(history.history[\"loss\"], label=\"train_loss\")\n",
        "plt.plot(history.history[\"val_loss\"], label=\"val_loss\")\n",
        "plt.xlabel(\"Epochs\", fontsize=16)\n",
        "plt.ylabel(\"loss\", fontsize=16)\n",
        "plt.xticks(np.arange(a), np.arange(1, a+1), fontsize=12)\n",
        "#plt.xticks(fontsize=12)\n",
        "plt.yticks(fontsize=12)\n",
        "plt.title(\"Train and Validation loss Over Epochs\", fontsize=14)\n",
        "plt.legend()\n",
        "plt.grid()\n",
        "# plt.show()\n",
        "plt.subplot(1, 2, 2) \n",
        "plt.plot(history.history[\"categorical_accuracy\"], label=\"train_accuracy\")\n",
        "plt.plot(history.history[\"val_categorical_accuracy\"], label=\"val_accuracy\")\n",
        "plt.xlabel(\"Epochs\",fontsize=16)\n",
        "plt.ylabel(\"accuracy\",fontsize=16)\n",
        "plt.xticks(np.arange(a), np.arange(1, a+1), fontsize=12)\n",
        "#plt.xticks(fontsize=12)\n",
        "plt.yticks(fontsize=12)\n",
        "plt.title(\"Train and Validation accuracy Over Epochs\", fontsize=14)\n",
        "plt.legend()\n",
        "plt.grid()\n",
        "#plt.savefig('cl_dl_loss_50', dpi=50,  bbox_inches='tight', transparent=True, pad_inches=0)\n",
        "#plt.savefig('cl_dl_loss_400', dpi=400,  bbox_inches='tight', transparent=True, pad_inches=0)\n",
        "\n",
        "plt.show()"
      ]
    },
    {
      "cell_type": "code",
      "execution_count": null,
      "metadata": {
        "colab": {
          "base_uri": "https://localhost:8080/"
        },
        "id": "cZjsPnelcFjp",
        "outputId": "c405f5d1-2c69-414f-923b-5de99d28ee71"
      },
      "outputs": [
        {
          "name": "stdout",
          "output_type": "stream",
          "text": [
            "3126/3126 [==============================] - 31s 10ms/step - loss: 0.0080 - categorical_accuracy: 0.3723 - f1_m: 0.2571 - precision_m: 0.7346 - recall_m: 0.1586\n",
            "accuracy on the test set: 37.23%.\n",
            "f1 on the test set: 25.71%.\n",
            "precision on the test set: 73.46%.\n",
            "recall on the test set: 15.86%.\n"
          ]
        }
      ],
      "source": [
        "_, categorical_acc, f1_m, precision_m, recall_m = shallow_mlp_model.evaluate(test_dataset)\n",
        "print(f\"accuracy on the test set: {round(categorical_acc * 100, 2)}%.\")\n",
        "print(f\"f1 on the test set: {round(f1_m * 100, 2)}%.\")\n",
        "print(f\"precision on the test set: {round(precision_m * 100, 2)}%.\")\n",
        "print(f\"recall on the test set: {round(recall_m * 100, 2)}%.\")\n"
      ]
    },
    {
      "cell_type": "code",
      "execution_count": null,
      "metadata": {
        "id": "NcssuFOGOx2F"
      },
      "outputs": [],
      "source": [
        "model_for_inference = keras.Sequential([text_vectorizer, shallow_mlp_model])"
      ]
    },
    {
      "cell_type": "code",
      "execution_count": null,
      "metadata": {
        "id": "dvk-1cZONwD_"
      },
      "outputs": [],
      "source": [
        "labels = tf.ragged.constant(test_df[\"Subclass_labels\"].values)\n",
        "label_binarized = lookup(labels).numpy()\n",
        "dataset = test_df[\"Abstract\"].values"
      ]
    },
    {
      "cell_type": "code",
      "execution_count": null,
      "metadata": {
        "colab": {
          "base_uri": "https://localhost:8080/"
        },
        "id": "nvDJv8kfOdrJ",
        "outputId": "d0516ffe-7a53-459d-98cb-5ff038a2b5b3"
      },
      "outputs": [
        {
          "data": {
            "text/plain": [
              "(100007, 632)"
            ]
          },
          "execution_count": 31,
          "metadata": {},
          "output_type": "execute_result"
        }
      ],
      "source": [
        "label_binarized.shape"
      ]
    },
    {
      "cell_type": "code",
      "execution_count": null,
      "metadata": {
        "id": "OU2nhX81O2fB"
      },
      "outputs": [],
      "source": [
        "predicted_probabilities = model_for_inference.predict(dataset)"
      ]
    },
    {
      "cell_type": "code",
      "execution_count": null,
      "metadata": {
        "id": "LR3etol6-TIT"
      },
      "outputs": [],
      "source": [
        "# # Create a model for inference.\n",
        "# model_for_inference = keras.Sequential([text_vectorizer, shallow_mlp_model])\n",
        "\n",
        "# # Create a small dataset just for demoing inference.\n",
        "# inference_dataset = make_dataset(test_df.sample(100), is_train=False)\n",
        "# text_batch, label_batch = next(iter(inference_dataset))\n",
        "# predicted_probabilities = model_for_inference.predict(text_batch)"
      ]
    },
    {
      "cell_type": "code",
      "execution_count": null,
      "metadata": {
        "colab": {
          "base_uri": "https://localhost:8080/"
        },
        "id": "ZQ5nxMX3-Ulg",
        "outputId": "49536c63-fe4c-4f8a-e3b5-66027c620990"
      },
      "outputs": [
        {
          "name": "stdout",
          "output_type": "stream",
          "text": [
            "(100007, 632)\n",
            "(100007, 632)\n"
          ]
        }
      ],
      "source": [
        "print(predicted_probabilities.shape)\n",
        "print(label_binarized.shape)"
      ]
    },
    {
      "cell_type": "code",
      "execution_count": null,
      "metadata": {
        "colab": {
          "base_uri": "https://localhost:8080/"
        },
        "id": "2O-mCJq3AE6F",
        "outputId": "8519d3b9-b9ed-49d6-e39b-c767d5d46c69"
      },
      "outputs": [
        {
          "data": {
            "text/plain": [
              "array([0., 0., 0., 0., 0., 0., 0., 0., 0., 0., 0., 0., 0., 0., 0., 0., 0.,\n",
              "       0., 0., 0., 0., 0., 0., 0., 0., 0., 0., 0., 0., 0., 0., 0., 0., 0.,\n",
              "       0., 0., 0., 0., 0., 0., 0., 0., 0., 0., 0., 0., 0., 0., 0., 0., 0.,\n",
              "       0., 0., 0., 0., 0., 0., 0., 0., 0., 0., 0., 0., 0., 0., 0., 0., 0.,\n",
              "       0., 0., 0., 1., 0., 0., 0., 0., 0., 0., 0., 0., 0., 0., 0., 0., 0.,\n",
              "       0., 0., 0., 0., 0., 0., 0., 0., 0., 0., 0., 0., 0., 0., 0., 0., 0.,\n",
              "       0., 0., 0., 0., 0., 0., 0., 0., 0., 0., 0., 0., 0., 0., 0., 0., 0.,\n",
              "       0., 0., 0., 0., 0., 0., 0., 0., 0., 0., 0., 0., 0., 0., 0., 0., 0.,\n",
              "       0., 0., 0., 0., 0., 0., 0., 0., 0., 0., 0., 0., 0., 0., 0., 0., 0.,\n",
              "       0., 0., 0., 0., 0., 0., 0., 0., 0., 0., 0., 0., 0., 0., 0., 0., 0.,\n",
              "       0., 0., 0., 0., 0., 0., 0., 0., 0., 0., 0., 0., 0., 0., 0., 0., 0.,\n",
              "       0., 0., 0., 0., 0., 0., 0., 0., 0., 0., 0., 0., 0., 0., 0., 0., 0.,\n",
              "       0., 0., 0., 0., 0., 0., 0., 0., 0., 0., 0., 0., 0., 0., 0., 0., 0.,\n",
              "       0., 0., 0., 0., 0., 0., 0., 0., 0., 0., 0., 0., 0., 0., 0., 0., 0.,\n",
              "       0., 0., 0., 0., 0., 0., 0., 0., 0., 0., 0., 0., 0., 0., 0., 0., 0.,\n",
              "       0., 0., 0., 0., 0., 0., 0., 0., 0., 0., 0., 0., 0., 0., 0., 0., 0.,\n",
              "       0., 0., 0., 0., 0., 0., 0., 0., 0., 0., 0., 0., 0., 0., 0., 0., 0.,\n",
              "       0., 0., 0., 0., 0., 0., 0., 0., 0., 0., 0., 0., 0., 0., 0., 0., 0.,\n",
              "       0., 0., 0., 0., 0., 0., 0., 0., 0., 0., 0., 0., 0., 0., 0., 0., 0.,\n",
              "       0., 0., 0., 0., 0., 0., 0., 0., 0., 0., 0., 0., 0., 0., 0., 0., 0.,\n",
              "       0., 0., 0., 0., 0., 0., 0., 0., 0., 0., 0., 0., 0., 0., 0., 0., 0.,\n",
              "       0., 0., 0., 0., 0., 0., 0., 0., 0., 0., 0., 0., 0., 0., 0., 0., 0.,\n",
              "       0., 0., 0., 0., 0., 0., 0., 0., 0., 0., 0., 0., 0., 0., 0., 0., 0.,\n",
              "       0., 0., 0., 0., 0., 0., 0., 0., 0., 0., 0., 0., 0., 0., 0., 0., 0.,\n",
              "       0., 0., 0., 0., 0., 0., 0., 0., 0., 0., 0., 0., 0., 0., 0., 0., 0.,\n",
              "       0., 0., 0., 0., 0., 0., 0., 0., 0., 0., 0., 0., 0., 0., 0., 0., 0.,\n",
              "       0., 0., 0., 0., 0., 0., 0., 0., 0., 0., 0., 0., 0., 0., 0., 0., 0.,\n",
              "       0., 0., 0., 0., 0., 0., 0., 0., 0., 0., 0., 0., 0., 0., 0., 0., 0.,\n",
              "       0., 0., 0., 0., 0., 0., 0., 0., 0., 0., 0., 0., 0., 0., 0., 0., 0.,\n",
              "       0., 0., 0., 0., 0., 0., 0., 0., 0., 0., 0., 0., 0., 0., 0., 0., 0.,\n",
              "       0., 0., 0., 0., 0., 0., 0., 0., 0., 0., 0., 0., 0., 0., 0., 0., 0.,\n",
              "       0., 0., 0., 0., 0., 0., 0., 0., 0., 0., 0., 0., 0., 0., 0., 0., 0.,\n",
              "       0., 0., 0., 0., 0., 0., 0., 0., 0., 0., 0., 0., 0., 0., 0., 0., 0.,\n",
              "       0., 0., 0., 0., 0., 0., 0., 0., 0., 0., 0., 0., 0., 0., 0., 0., 0.,\n",
              "       0., 0., 0., 0., 0., 0., 0., 0., 0., 0., 0., 0., 0., 0., 0., 0., 0.,\n",
              "       0., 0., 0., 0., 0., 0., 0., 0., 0., 0., 0., 0., 0., 0., 0., 0., 0.,\n",
              "       0., 0., 0., 0., 0., 0., 0., 0., 0., 0., 0., 0., 0., 0., 0., 0., 0.,\n",
              "       0., 0., 0.], dtype=float32)"
            ]
          },
          "execution_count": 35,
          "metadata": {},
          "output_type": "execute_result"
        }
      ],
      "source": [
        "predicted_probabilities[0]\n",
        "label_binarized[0]"
      ]
    },
    {
      "cell_type": "code",
      "execution_count": null,
      "metadata": {
        "id": "8WSNZIxYCGVd"
      },
      "outputs": [],
      "source": [
        "y_te_true = label_binarized"
      ]
    },
    {
      "cell_type": "markdown",
      "metadata": {
        "id": "r9vv40QBCBm2"
      },
      "source": [
        "### Threshold results"
      ]
    },
    {
      "cell_type": "code",
      "execution_count": null,
      "metadata": {
        "id": "06NkXHRhBUoU"
      },
      "outputs": [],
      "source": [
        "y_te_pred = [[1 if pred>=0.9 else 0 for pred in row] for row in predicted_probabilities]"
      ]
    },
    {
      "cell_type": "markdown",
      "metadata": {
        "id": "4fBYrm0xBz3Z"
      },
      "source": [
        "### Top @ results"
      ]
    },
    {
      "cell_type": "code",
      "execution_count": null,
      "metadata": {
        "id": "euiSDJWVAMyB"
      },
      "outputs": [],
      "source": [
        "top_k = 10"
      ]
    },
    {
      "cell_type": "code",
      "execution_count": null,
      "metadata": {
        "colab": {
          "base_uri": "https://localhost:8080/"
        },
        "id": "XSRPsbk5AX6o",
        "outputId": "5a5c3874-af1f-45a6-daf9-448b440f71ba"
      },
      "outputs": [
        {
          "name": "stdout",
          "output_type": "stream",
          "text": [
            "(100007, 632)\n"
          ]
        }
      ],
      "source": [
        "y_te_pre = np.zeros_like(predicted_probabilities)\n",
        "print(y_te_pre.shape)"
      ]
    },
    {
      "cell_type": "code",
      "execution_count": null,
      "metadata": {
        "id": "Khmf8my8Adr9"
      },
      "outputs": [],
      "source": [
        "top_k_ind = [np.argpartition(x_in, -top_k)[-top_k:] for x_in in predicted_probabilities]\n",
        "top_k_ind_arr = np.array(top_k_ind)"
      ]
    },
    {
      "cell_type": "code",
      "execution_count": null,
      "metadata": {
        "id": "HTVvbeNRAkMT"
      },
      "outputs": [],
      "source": [
        "for i in range(y_te_pre.shape[0]):\n",
        "  a = y_te_pre[i]\n",
        "  b = top_k_ind_arr[i]\n",
        "  a[b] = 1\n",
        "  y_te_pre[i] = a "
      ]
    },
    {
      "cell_type": "code",
      "execution_count": null,
      "metadata": {
        "id": "k9zgW21sRb6F"
      },
      "outputs": [],
      "source": [
        "# y_te_pre[0]"
      ]
    },
    {
      "cell_type": "code",
      "execution_count": null,
      "metadata": {
        "id": "h41H6iO5Am5K"
      },
      "outputs": [],
      "source": [
        "from sklearn.metrics import f1_score, precision_score, accuracy_score, roc_curve, confusion_matrix, roc_auc_score, classification_report, recall_score"
      ]
    },
    {
      "cell_type": "markdown",
      "metadata": {
        "id": "4O54ws3JBHBm"
      },
      "source": [
        "### Threshold"
      ]
    },
    {
      "cell_type": "code",
      "execution_count": null,
      "metadata": {
        "colab": {
          "base_uri": "https://localhost:8080/"
        },
        "id": "RfHbEZ7kBKQK",
        "outputId": "1dc58318-2c87-4043-ad4f-fee2bd29a64b"
      },
      "outputs": [
        {
          "data": {
            "text/plain": [
              "0.9160544005002345"
            ]
          },
          "execution_count": 55,
          "metadata": {},
          "output_type": "execute_result"
        }
      ],
      "source": [
        "precision_score(y_te_true, y_te_pred, average='micro')"
      ]
    },
    {
      "cell_type": "code",
      "execution_count": null,
      "metadata": {
        "colab": {
          "base_uri": "https://localhost:8080/"
        },
        "id": "U44ZVUQQBKCi",
        "outputId": "9cbe7179-c4d1-4060-f5f0-6ba6482d891a"
      },
      "outputs": [
        {
          "data": {
            "text/plain": [
              "0.043700361683880834"
            ]
          },
          "execution_count": 56,
          "metadata": {},
          "output_type": "execute_result"
        }
      ],
      "source": [
        "recall_score(y_te_true, y_te_pred, average='micro')"
      ]
    },
    {
      "cell_type": "code",
      "execution_count": null,
      "metadata": {
        "colab": {
          "base_uri": "https://localhost:8080/"
        },
        "id": "TYQ0Z8cbA_Os",
        "outputId": "e9053bfa-e6d2-466b-f7b8-3969fe752721"
      },
      "outputs": [
        {
          "data": {
            "text/plain": [
              "0.08342112006377587"
            ]
          },
          "execution_count": 57,
          "metadata": {},
          "output_type": "execute_result"
        }
      ],
      "source": [
        "f1_score(y_te_true, y_te_pred, average='micro')"
      ]
    },
    {
      "cell_type": "code",
      "execution_count": null,
      "metadata": {
        "id": "6XK0U_c6A-n5"
      },
      "outputs": [],
      "source": [
        "label_batch"
      ]
    },
    {
      "cell_type": "markdown",
      "metadata": {
        "id": "GddP4g7HBl-h"
      },
      "source": [
        "### Top@ results"
      ]
    },
    {
      "cell_type": "code",
      "execution_count": null,
      "metadata": {
        "colab": {
          "base_uri": "https://localhost:8080/"
        },
        "id": "tUJ7sxTQA-cM",
        "outputId": "303216b4-30b2-4e29-9298-bb0aa12e05be"
      },
      "outputs": [
        {
          "data": {
            "text/plain": [
              "0.0927245092843501"
            ]
          },
          "execution_count": 97,
          "metadata": {},
          "output_type": "execute_result"
        }
      ],
      "source": [
        "precision_score(y_te_true, y_te_pre, average='micro')"
      ]
    },
    {
      "cell_type": "code",
      "execution_count": null,
      "metadata": {
        "colab": {
          "base_uri": "https://localhost:8080/"
        },
        "id": "WVljrjIZA-Rw",
        "outputId": "6c81224e-3615-4385-a8e0-36f8d17e21ed"
      },
      "outputs": [
        {
          "data": {
            "text/plain": [
              "0.6915321227487975"
            ]
          },
          "execution_count": 98,
          "metadata": {},
          "output_type": "execute_result"
        }
      ],
      "source": [
        "recall_score(y_te_true, y_te_pre, average='micro')"
      ]
    },
    {
      "cell_type": "code",
      "execution_count": null,
      "metadata": {
        "colab": {
          "base_uri": "https://localhost:8080/"
        },
        "id": "tdym_C1ZA-BN",
        "outputId": "20a325d0-0ef9-4188-b25b-a414ca212fad"
      },
      "outputs": [
        {
          "data": {
            "text/plain": [
              "0.1635229441924235"
            ]
          },
          "execution_count": 99,
          "metadata": {},
          "output_type": "execute_result"
        }
      ],
      "source": [
        "f1_score(y_te_true, y_te_pre, average='micro')"
      ]
    },
    {
      "cell_type": "code",
      "execution_count": null,
      "metadata": {
        "id": "zbJLnROPCPyP"
      },
      "outputs": [],
      "source": [
        ""
      ]
    },
    {
      "cell_type": "code",
      "execution_count": null,
      "metadata": {
        "colab": {
          "base_uri": "https://localhost:8080/"
        },
        "id": "xdR8MYlwcKNR",
        "outputId": "efcf5a16-76c7-4a6c-e23a-aec7befba434"
      },
      "outputs": [
        {
          "name": "stdout",
          "output_type": "stream",
          "text": [
            "Abstract: b'a light emitting device includes a substrate a doped substrate layer a layer of first conductivity type overlying the doped substrate layer a light emitting layer overlying the layer of first conductivity type and a layer of second conductivity type overlying the light emitting layer a conductive transparent layer e g of indium tin oxide and a reflective metal layer overlie the layer of second conductivity type and provide electrical contact with the layer of second conductivity type a plurality of vias may be formed in the reflective metal and conductive transparent layer as well as the layer of second conductivity type down to the doped substrate'\n",
            "Label(s): ['H01L']\n",
            "Predicted Label(s): (H01L, H01J, H01S)\n",
            " \n",
            "Abstract: b'a hood elevation system for a vehicle includes an actuator configured to selectively move at least a portion of a vehicle hood between an elevated and a retracted position the hood elevation system also includes a self locking mechanism configured to allow movement of the hood between the elevated and retracted positions initiated by the actuator but to resist retraction of the hood as a result of certain loads applied to the hood the self locking mechanism thus enables repeated elevation and retraction of the hood in a preferred embodiment the self locking mechanism is configured to deform thereby absorbing energy from an impact to the hood'\n",
            "Label(s): ['B60K']\n",
            "Predicted Label(s): (B60R, B62D, B60J)\n",
            " \n",
            "Abstract: b'an apparatus for dispersing mist in a predetermined area includes means for obtaining water from a water source and means for dispersing the water as mist a connecting means connects the obtaining means to the dispersing means upon the obtaining means obtaining water water is provided through the connecting means for dispersing by the dispersing means thereby providing a cooling mist therefrom<pad><pad><pad><pad><pad><pad><pad><pad><pad><pad><pad><pad><pad><pad><pad><pad><pad><pad><pad><pad><pad><pad><pad><pad><pad><pad><pad><pad><pad><pad><pad><pad><pad><pad><pad><pad><pad><pad><pad><pad><pad><pad><pad><pad><pad>'\n",
            "Label(s): ['B05B' 'A01G' 'A24F']\n",
            "Predicted Label(s): (C02F, B63C, A01K)\n",
            " \n",
            "Abstract: b'a conductor torquing system is provided for large diameter threaded conductor casing which comprises a lower chain vise adapted to grip a first joint of conductor casing a plurality of movable arms operable to apply a retaining force to a second joint of conductor casing to maintain the latter in rotational contact with a spinning means the spinning means is operable to rotationally make up the second joint of conductor casing to the first joint of conductor casing to an initial make up torque value the apparatus also includes an upper chain vise for gripping the second joint of conductor casing and applying a final make up'\n",
            "Label(s): ['B23P']\n",
            "Predicted Label(s): (B65B, E21B, B65H)\n",
            " \n",
            "Abstract: b'a tiled display may be formed by temporarily securing a plurality of modules to a substrate thereafter the tiled array may be tested to insure that each module is functional if each module is functional the modules may be permanently secured to the substrate if any modules are defective they may be replaced and the tiled array may be retested<pad><pad><pad><pad><pad><pad><pad><pad><pad><pad><pad><pad><pad><pad><pad><pad><pad><pad><pad><pad><pad><pad><pad><pad><pad><pad><pad><pad><pad><pad><pad><pad><pad><pad><pad><pad><pad><pad><pad><pad><pad><pad><pad><pad><pad><pad><pad>'\n",
            "Label(s): ['G09G' 'G01R' 'G02F' 'C09K']\n",
            "Predicted Label(s): (H01L, H05K, G02B)\n",
            " \n"
          ]
        }
      ],
      "source": [
        "# Create a model for inference.\n",
        "model_for_inference = keras.Sequential([text_vectorizer, shallow_mlp_model])\n",
        "\n",
        "# Create a small dataset just for demoing inference.\n",
        "inference_dataset = make_dataset(test_df.sample(100), is_train=False)\n",
        "text_batch, label_batch = next(iter(inference_dataset))\n",
        "predicted_probabilities = model_for_inference.predict(text_batch)\n",
        "\n",
        "# Perform inference.\n",
        "for i, text in enumerate(text_batch[:5]):\n",
        "    label = label_batch[i].numpy()[None, ...]\n",
        "    print(f\"Abstract: {text[0]}\")\n",
        "    print(f\"Label(s): {invert_multi_hot(label[0])}\")\n",
        "    predicted_proba = [proba for proba in predicted_probabilities[i]]\n",
        "    top_3_labels = [\n",
        "        x\n",
        "        for _, x in sorted(\n",
        "            zip(predicted_probabilities[i], lookup.get_vocabulary()),\n",
        "            key=lambda pair: pair[0],\n",
        "            reverse=True,\n",
        "        )\n",
        "    ][:3]\n",
        "    print(f\"Predicted Label(s): ({', '.join([label for label in top_3_labels])})\")\n",
        "    print(\" \")"
      ]
    },
    {
      "cell_type": "code",
      "execution_count": null,
      "metadata": {
        "id": "kzlPxckMXYPt"
      },
      "outputs": [],
      "source": [
        ""
      ]
    },
    {
      "cell_type": "code",
      "execution_count": null,
      "metadata": {
        "id": "ZkGRRS0B-yHh"
      },
      "outputs": [],
      "source": [
        ""
      ]
    }
  ],
  "metadata": {
    "colab": {
      "collapsed_sections": [],
      "name": "Deeplearning_classification_USPTO.ipynb",
      "provenance": []
    },
    "kernelspec": {
      "display_name": "Python 3",
      "language": "python",
      "name": "python3"
    },
    "language_info": {
      "codemirror_mode": {
        "name": "ipython",
        "version": 3
      },
      "file_extension": ".py",
      "mimetype": "text/x-python",
      "name": "python",
      "nbconvert_exporter": "python",
      "pygments_lexer": "ipython3",
      "version": "3.8.8"
    }
  },
  "nbformat": 4,
  "nbformat_minor": 0
}